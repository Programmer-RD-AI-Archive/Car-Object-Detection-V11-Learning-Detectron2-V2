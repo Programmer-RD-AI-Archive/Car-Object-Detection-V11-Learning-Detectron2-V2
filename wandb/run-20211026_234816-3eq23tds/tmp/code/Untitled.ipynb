{
 "cells": [
  {
   "cell_type": "code",
   "execution_count": 1,
   "id": "04e2b2f9-4628-4db9-8d97-509cf69be72a",
   "metadata": {},
   "outputs": [],
   "source": [
    "import torch,torchvision\n",
    "import detectron2\n",
    "from detectron2.utils.logger import setup_logger\n",
    "setup_logger()\n",
    "import numpy as np\n",
    "import pandas as pd\n",
    "import wandb\n",
    "import os, json, cv2, random\n",
    "from detectron2 import model_zoo\n",
    "from detectron2.engine import DefaultPredictor,DefaultTrainer\n",
    "from detectron2.config import get_cfg\n",
    "from detectron2.structures import BoxMode\n",
    "from tqdm import tqdm\n",
    "import matplotlib.pyplot as plt\n",
    "from detectron2.utils.visualizer import ColorMode\n",
    "from detectron2.evaluation import COCOEvaluator, inference_on_dataset\n",
    "from detectron2.data import build_detection_test_loader\n",
    "from detectron2.utils.visualizer import Visualizer\n",
    "from detectron2.data import MetadataCatalog, DatasetCatalog\n",
    "PROJECT_NAME = 'Car-Object-Detection-V11-Learning-Detectron2-V2'"
   ]
  },
  {
   "cell_type": "code",
   "execution_count": 2,
   "id": "92c3b1d0-8e79-44b1-9789-5fbf06f98864",
   "metadata": {},
   "outputs": [],
   "source": [
    "data = pd.read_csv('./data.csv')"
   ]
  },
  {
   "cell_type": "code",
   "execution_count": 7,
   "id": "6f55c348-bdf1-4a6e-8f12-d9d13285336f",
   "metadata": {},
   "outputs": [
    {
     "data": {
      "text/plain": [
       "559"
      ]
     },
     "execution_count": 7,
     "metadata": {},
     "output_type": "execute_result"
    }
   ],
   "source": [
    "len(data)"
   ]
  },
  {
   "cell_type": "code",
   "execution_count": 26,
   "id": "85a82e20-9ddf-42a4-8123-69acef6a862c",
   "metadata": {},
   "outputs": [],
   "source": [
    "info = data.iloc[185]"
   ]
  },
  {
   "cell_type": "code",
   "execution_count": 27,
   "id": "3ae332db-149d-423e-8799-ae2a7ff642bf",
   "metadata": {},
   "outputs": [],
   "source": [
    "data['xmin'] = data['xmin'].astype(int)\n",
    "data['ymin'] = data['ymin'].astype(int)\n",
    "data['xmax'] = data['xmax'].astype(int)\n",
    "data['ymax'] = data['ymax'].astype(int)"
   ]
  },
  {
   "cell_type": "code",
   "execution_count": 28,
   "id": "9e639ff4-34f0-4170-b11b-3327ebe6bf3d",
   "metadata": {},
   "outputs": [
    {
     "data": {
      "text/plain": [
       "True"
      ]
     },
     "execution_count": 28,
     "metadata": {},
     "output_type": "execute_result"
    }
   ],
   "source": [
    "img = cv2.imread('./data/' + info['image'])\n",
    "xmin,ymin,xmax,ymax = info['xmin'],info['ymin'],info['xmax'],info['ymax']\n",
    "x = xmin\n",
    "y = ymin\n",
    "w = xmax - xmin\n",
    "h = ymax - ymin\n",
    "crop = img[y:y+h,x:x+w]\n",
    "cv2.imwrite('./crop.png',crop)\n",
    "cv2.rectangle(img,(x,y),(x+w,y+h),(200,0,0),2)\n",
    "cv2.imwrite('./box.png',img)"
   ]
  },
  {
   "cell_type": "code",
   "execution_count": 29,
   "id": "b75be237-73ae-453c-99e7-ef448edc7f67",
   "metadata": {},
   "outputs": [],
   "source": [
    "def load_data():\n",
    "    records = []\n",
    "    for i in tqdm(range(len(data))):\n",
    "        record = {}\n",
    "        info = data.iloc[i]\n",
    "        path = './data/' + info['image']\n",
    "        record['file_name'] = path\n",
    "        record['height'],record['width'] = cv2.imread(path).shape[:2]\n",
    "        record['image_id'] = i\n",
    "        record['annotations'] = [\n",
    "            {\n",
    "                'bbox':[info['xmin'],info['ymin'],info['xmax'],info['ymax']],\n",
    "                'bbox_mode':BoxMode.XYXY_ABS,\n",
    "                'category_id':0\n",
    "            }\n",
    "        ]\n",
    "        records.append(record)\n",
    "    np.save(records,'./data.npy')\n",
    "    return records"
   ]
  },
  {
   "cell_type": "code",
   "execution_count": 30,
   "id": "5dd3c376-a2c9-4462-bacb-689582753779",
   "metadata": {},
   "outputs": [],
   "source": [
    "labels = ['car']"
   ]
  },
  {
   "cell_type": "code",
   "execution_count": 31,
   "id": "dfb57eac-fc15-4565-b117-b613b837e360",
   "metadata": {},
   "outputs": [],
   "source": [
    "DatasetCatalog.register('data',lambda : load_data())\n",
    "MetadataCatalog.get('data').set(thing_classes=labels)\n",
    "metadata = MetadataCatalog.get('data')"
   ]
  },
  {
   "cell_type": "code",
   "execution_count": null,
   "id": "a885a8ae-4d71-4cca-affb-73c283e42fd2",
   "metadata": {},
   "outputs": [],
   "source": [
    "wandb.init(project=PROJECT_NAME,name='baseline')\n",
    "cfg = get_cfg()\n",
    "cfg.merge_from_file(model_zoo.get_config_file(model))\n",
    "cfg.DATASETS.TRAIN = ('data')\n",
    "cfg.DATASETS.TEST = ()\n",
    "cfg.SOLVER.STEPS = []\n",
    "cfg.SOLVER.MAX_ITER = 500\n",
    "cfg.SOLVER.BASE_LR = 0.00025\n",
    "cfg.SOLVER.IMS_PER_BATCH = 2\n",
    "cfg.MODEL.ROI_HEADS.BATCH_SIZE_PER_IMAGE = 128\n",
    "cfg.MODEL.ROI_HEADS.NUM_CLASSES = len(labels)\n",
    "cfg.MODEL.WEIGHTS = model_zoo.get_checkpoint_url(model)\n",
    "trainer = DefaultTrainer(cfg)\n",
    "trainer.resume_or_load(resume=False)\n",
    "trainer.train()\n",
    "predictor = DefaultPredictor(cfg)\n",
    "cfg.MODEL.WEIGHTS = './output/model_final.pth'\n",
    "evaluator = COCOEvaluator('data',output_dir='./output/')\n",
    "val_loader = build_detection_test_loader(cfg,'data')\n",
    "metrics = inference_on_dataset(predictor.model,val_loader,evaluator)\n",
    "wandb.log(metrics)\n",
    "img = cv2.imread('./data/vid_4_12220.jpg')\n",
    "preds = predictor(img)\n",
    "v = Visualizer(img[:,:,::-1],metadata=metadata)\n",
    "v = v.draw_instance_predictions(preds['instances'].to('cpu'))\n",
    "v = v.get_image()[:,:,::-1]\n",
    "plt.figure(figsize=(12,6))\n",
    "plt.imshow(v)\n",
    "plt.savefig('./img.png')\n",
    "plt.close()\n",
    "wandb.log({'Img':wandb.Image(cv2.imread('./img.png'))})\n",
    "wandb.finish()"
   ]
  },
  {
   "cell_type": "code",
   "execution_count": null,
   "id": "eaa4c404-3cec-4af5-81c3-580b0349ffab",
   "metadata": {},
   "outputs": [],
   "source": [
    "torch.save(cfg,'cfg.pt')\n",
    "torch.save(cfg,'cfg.pth')\n",
    "torch.save(predictor,'predictor.pt')\n",
    "torch.save(predictor,'predictor.pth')\n",
    "torch.save(evaluator,'evaluator.pt')\n",
    "torch.save(evaluator,'evaluator.pth')\n",
    "torch.save(v,'img.pt')\n",
    "torch.save(v,'img.pth')\n",
    "torch.save(model,'model.pt')\n",
    "torch.save(model,'model.pth')\n",
    "torch.save(labels,'labels.pt')\n",
    "torch.save(labels,'labels.pth')\n",
    "torch.save(metrics,'metrics.pt')\n",
    "torch.save(metrics,'metrics.pth')"
   ]
  }
 ],
 "metadata": {
  "kernelspec": {
   "display_name": "Python 3.8.12 64-bit ('detectron2': conda)",
   "language": "python",
   "name": "python3812jvsc74a57bd0585e9a5027b519a27e411109b09a66bc779a1bba36bd86b08fdb64645f8a2c5a"
  },
  "language_info": {
   "codemirror_mode": {
    "name": "ipython",
    "version": 3
   },
   "file_extension": ".py",
   "mimetype": "text/x-python",
   "name": "python",
   "nbconvert_exporter": "python",
   "pygments_lexer": "ipython3",
   "version": "3.8.12"
  }
 },
 "nbformat": 4,
 "nbformat_minor": 5
}
